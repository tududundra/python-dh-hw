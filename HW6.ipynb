{
 "cells": [
  {
   "cell_type": "code",
   "execution_count": null,
   "metadata": {},
   "outputs": [],
   "source": []
  },
  {
   "cell_type": "code",
   "execution_count": 1,
   "metadata": {},
   "outputs": [],
   "source": [
    "stri = 'абракадабра фокус покус десятка за курс немедленно появись'"
   ]
  },
  {
   "cell_type": "code",
   "execution_count": 53,
   "metadata": {},
   "outputs": [
    {
     "name": "stdout",
     "output_type": "stream",
     "text": [
      "аб\n",
      "бр\n",
      "ра\n",
      "ак\n",
      "ка\n",
      "ад\n",
      "да\n",
      "аб\n",
      "бр\n",
      "ра\n",
      "фо\n",
      "ок\n",
      "ку\n",
      "ус\n",
      "по\n",
      "ок\n",
      "ку\n",
      "ус\n",
      "де\n",
      "ес\n",
      "ся\n",
      "ят\n",
      "тк\n",
      "ка\n",
      "за\n",
      "ку\n",
      "ур\n",
      "рс\n",
      "не\n",
      "ем\n",
      "ме\n",
      "ед\n",
      "дл\n",
      "ле\n",
      "ен\n",
      "нн\n",
      "но\n",
      "по\n",
      "оя\n",
      "яв\n",
      "ви\n",
      "ис\n",
      "сь\n"
     ]
    }
   ],
   "source": [
    "d = {}\n",
    "ind_1 = 0\n",
    "ind_2 = 2\n",
    "while ind_1 < 57:\n",
    "    bi = stri[ind_1:ind_2]\n",
    "    if not ' ' in bi:\n",
    "        print(bi)\n",
    "        if bi in d:\n",
    "            d[bi]+=1\n",
    "        else:\n",
    "            d[bi] = 1\n",
    "    ind_1 += 1\n",
    "    ind_2 += 1"
   ]
  },
  {
   "cell_type": "code",
   "execution_count": 55,
   "metadata": {},
   "outputs": [
    {
     "name": "stdout",
     "output_type": "stream",
     "text": [
      "аб - 2\n",
      "бр - 2\n",
      "ра - 2\n",
      "ак - 1\n",
      "ка - 2\n",
      "ад - 1\n",
      "да - 1\n",
      "фо - 1\n",
      "ок - 2\n",
      "ку - 3\n",
      "ус - 2\n",
      "по - 2\n",
      "де - 1\n",
      "ес - 1\n",
      "ся - 1\n",
      "ят - 1\n",
      "тк - 1\n",
      "за - 1\n",
      "ур - 1\n",
      "рс - 1\n",
      "не - 1\n",
      "ем - 1\n",
      "ме - 1\n",
      "ед - 1\n",
      "дл - 1\n",
      "ле - 1\n",
      "ен - 1\n",
      "нн - 1\n"
     ]
    }
   ],
   "source": [
    "for el in d:\n",
    "    print(el, '-', d[el])\n",
    "    if el[0:1] == el[-1:]:\n",
    "        break"
   ]
  },
  {
   "cell_type": "code",
   "execution_count": 63,
   "metadata": {},
   "outputs": [],
   "source": [
    "def reverser(w1, w2):\n",
    "    if w1 == w2[::-1]:\n",
    "        print('YES')\n",
    "    else:\n",
    "        print('NO')"
   ]
  },
  {
   "cell_type": "code",
   "execution_count": 64,
   "metadata": {},
   "outputs": [
    {
     "name": "stdout",
     "output_type": "stream",
     "text": [
      "YES\n"
     ]
    }
   ],
   "source": [
    "f = reverser('кот', 'ток')"
   ]
  },
  {
   "cell_type": "code",
   "execution_count": 65,
   "metadata": {},
   "outputs": [
    {
     "name": "stdout",
     "output_type": "stream",
     "text": [
      "NO\n"
     ]
    }
   ],
   "source": [
    "h = reverser('мама', 'няня')"
   ]
  },
  {
   "cell_type": "code",
   "execution_count": null,
   "metadata": {},
   "outputs": [],
   "source": []
  }
 ],
 "metadata": {
  "kernelspec": {
   "display_name": "Python 3",
   "language": "python",
   "name": "python3"
  },
  "language_info": {
   "codemirror_mode": {
    "name": "ipython",
    "version": 3
   },
   "file_extension": ".py",
   "mimetype": "text/x-python",
   "name": "python",
   "nbconvert_exporter": "python",
   "pygments_lexer": "ipython3",
   "version": "3.6.4"
  }
 },
 "nbformat": 4,
 "nbformat_minor": 2
}
